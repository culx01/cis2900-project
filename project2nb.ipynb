{
 "cells": [
  {
   "cell_type": "code",
   "execution_count": 101,
   "metadata": {},
   "outputs": [],
   "source": [
    "import numpy as np\n",
    "import pandas as pd \n",
    "import matplotlib.pyplot as plt"
   ]
  },
  {
   "cell_type": "code",
   "execution_count": null,
   "metadata": {},
   "outputs": [],
   "source": [
    "df = pd.read_csv('sales_data.csv') #load csv file\n",
    "#test header\n",
    "df.head(5)"
   ]
  },
  {
   "cell_type": "code",
   "execution_count": null,
   "metadata": {},
   "outputs": [],
   "source": [
    "#Question 1\n",
    "most_prevalent_pd = df['Product Name'].value_counts().head(1)\n",
    "\n",
    "product_name = most_prevalent_pd.index[0]\n",
    "product_count = most_prevalent_pd.values[0]\n",
    "\n",
    "print(f\"Most prevalent product: {product_name} with {product_count} sales.\")"
   ]
  },
  {
   "cell_type": "code",
   "execution_count": null,
   "metadata": {},
   "outputs": [],
   "source": [
    "#Question 1 \n",
    "product_counts = df['Product Name'].value_counts()\n",
    "\n",
    "most_prevalent_products = product_counts[product_counts == product_counts.max()]\n",
    "\n",
    "print(\"Most Prevalent Product\")\n",
    "for product, count in most_prevalent_products.items():\n",
    "    print(f\"{product}: {count} sales\")"
   ]
  },
  {
   "cell_type": "code",
   "execution_count": null,
   "metadata": {},
   "outputs": [],
   "source": [
    "#Question 2\n",
    "order_product_count = df.groupby(['CustomerID', 'OrderID'])['Product Name'].nunique().reset_index()\n",
    "\n",
    "#5 or greater is considered \"large\"\n",
    "large_basket_orders = order_product_count[order_product_count['Product Name'] >= 10]\n",
    "\n",
    "total_large_purchases = len(large_basket_orders)\n",
    "\n",
    "print(\"\\nFrequency of Large Baskets:\", total_large_purchases, \"occurrences\")"
   ]
  },
  {
   "cell_type": "code",
   "execution_count": null,
   "metadata": {},
   "outputs": [],
   "source": [
    "#Question 3\n",
    "order_product_count = df.groupby(['CustomerID', 'OrderID'])['Product Name'].nunique().reset_index()\n",
    "\n",
    "large_basket_orders = order_product_count[order_product_count['Product Name'] >= 10] #10 or greater are considered large baskets\n",
    "\n",
    "large_basket_orders = large_basket_orders.merge(df[['StoreID', 'OrderID']], on='OrderID')\n",
    "\n",
    "store_large_basket_counts = large_basket_orders['StoreID'].value_counts()\n",
    "\n",
    "total_stores_with_large_baskets = len(store_large_basket_counts)\n",
    "\n",
    "print(f\"Stores containing at least one large basket: {total_stores_with_large_baskets}\")\n",
    "\n",
    "print(\"\\n5 stores with the most filled-up baskets:\")\n",
    "for store_id, count in store_large_basket_counts.head(5).items():\n",
    "    print(f\"StoreID {store_id} had {count} large purchases\")\n",
    "     "
   ]
  },
  {
   "cell_type": "code",
   "execution_count": null,
   "metadata": {},
   "outputs": [],
   "source": [
    "#Question 4\n",
    "df['Product Price'] = pd.to_numeric(df['Product Price'], errors='coerce')  \n",
    "df.dropna(subset=['Product Price'], inplace=True)\n",
    "\n",
    "basket_sizes = df.groupby(['StoreID', 'OrderID'])['Product Price'].sum().reset_index()\n",
    "\n",
    "large_basket_threshold = basket_sizes['Product Price'].quantile(0.95)  # Top 5% of basket sizes\n",
    "\n",
    "large_basket_data = basket_sizes[basket_sizes['Product Price'] > large_basket_threshold]\n",
    "\n",
    "top_stores = large_basket_data['StoreID'].value_counts().head(25)\n",
    "\n",
    "plt.figure(figsize=(8, 4))\n",
    "plt.bar(top_stores.index.astype(str), top_stores.values, color='skyblue')\n",
    "plt.title('Top 25 Stores by Large-Basket Transaction Frequency', fontsize=14)\n",
    "plt.xlabel('StoreID', fontsize=12)\n",
    "plt.ylabel('Frequency', fontsize=12)\n",
    "plt.xticks(fontsize=7)\n",
    "plt.yticks(fontsize=10)\n",
    "plt.grid(axis='y', linestyle='--', alpha=0.7)\n",
    "plt.tight_layout()\n",
    "\n",
    "plt.show()"
   ]
  },
  {
   "cell_type": "code",
   "execution_count": null,
   "metadata": {},
   "outputs": [],
   "source": [
    "#Question 5\n",
    "df['ProductCount'] = df.groupby('OrderID')['Product Name'].transform('nunique')\n",
    "large_basket_orders = df[df['ProductCount'] >= 5]\n",
    "\n",
    "product_counts_in_large_baskets = large_basket_orders['Product Name'].value_counts()\n",
    "top_n_products_large_basket = product_counts_in_large_baskets.head(5)\n",
    "\n",
    "print(\"Top 5 products linked to large basket shoppers:\")\n",
    "\n",
    "for rank, (product, count) in enumerate(top_n_products_large_basket.items(), start=1):\n",
    "    print(f\"{rank}. {product}, Sold {count} times\")"
   ]
  },
  {
   "cell_type": "code",
   "execution_count": null,
   "metadata": {},
   "outputs": [],
   "source": [
    "#Question 6\n",
    "category_map = {\n",
    "    \"Driscolls Blueberries\": \"Food\",\n",
    "    \"Alisan Kitchen Mats\": \"Home\",\n",
    "    \"Organic 2% Milk\": \"Food\",\n",
    "    \"Goodfellow Grey T-shirt\": \"Apparel\",\n",
    "    \"Apple AirPods Pro\": \"Electronics\",\n",
    "    \"Tropicana Orange Juice\": \"Beverages\",\n",
    "    \"Toll House Cookie Dough\": \"Food\",\n",
    "    \"Daves Killer Bread\": \"Food\",\n",
    "    \"Afflux Type-C\": \"Electronics\",\n",
    "    \"Mobil 1 5W30 Oil\": \"Automotive\",\n",
    "}\n",
    "\n",
    "df['Category'] = df['Product Name'].map(category_map)\n",
    "large_basket_orders = df[df['ProductCount'] >= 10]\n",
    "category_counts_in_large_baskets = large_basket_orders['Category'].value_counts()\n",
    "top_5_categories_large_basket = category_counts_in_large_baskets.head(5)\n",
    "\n",
    "print(\"Top 5 categories typical to large-basket customers:\")\n",
    "for i, (category, count) in enumerate(top_5_categories_large_basket.items(), start=1):\n",
    "    print(f\"{i}: {category}, Sold {count} times\")"
   ]
  },
  {
   "cell_type": "code",
   "execution_count": null,
   "metadata": {},
   "outputs": [],
   "source": [
    "#Question 7\n",
    "plt.figure(figsize=(10, 6))\n",
    "top_5_categories_large_basket.plot(kind='bar', color='coral')\n",
    "\n",
    "plt.title(\"Top 5 Categories Typical to Large-Basket Customers\", fontsize=14)\n",
    "plt.xlabel(\"Category\", fontsize=12)\n",
    "plt.ylabel(\"Number of Products Sold\", fontsize=12)\n",
    "\n",
    "plt.xticks(rotation=45)\n",
    "plt.tight_layout()\n",
    "plt.show()\n"
   ]
  }
 ],
 "metadata": {
  "kernelspec": {
   "display_name": "Python 3",
   "language": "python",
   "name": "python3"
  },
  "language_info": {
   "codemirror_mode": {
    "name": "ipython",
    "version": 3
   },
   "file_extension": ".py",
   "mimetype": "text/x-python",
   "name": "python",
   "nbconvert_exporter": "python",
   "pygments_lexer": "ipython3",
   "version": "3.9.1"
  }
 },
 "nbformat": 4,
 "nbformat_minor": 2
}
