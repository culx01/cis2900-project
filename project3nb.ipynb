{
 "cells": [
  {
   "cell_type": "markdown",
   "metadata": {},
   "source": [
    "**1. Corporation wants to investigate the best-selling item across stores**\n",
    "**2. The Best selling item in All Stores**\n",
    "**3. Best selling bundled items in stores**\n",
    "**4. Best performing stores via sales**\n",
    "**5. The best selling items in the best selling stores**\n",
    "**6. Worse performing products and its corresponding stores**\n",
    "**7. Worse performing stores by sales**"
   ]
  },
  {
   "cell_type": "code",
   "execution_count": 4,
   "metadata": {},
   "outputs": [],
   "source": [
    "import pandas as pd \n",
    "import random\n",
    "from mlxtend.frequent_patterns import apriori, association_rules\n",
    "from mlxtend.preprocessing import TransactionEncoder"
   ]
  },
  {
   "cell_type": "code",
   "execution_count": 6,
   "metadata": {},
   "outputs": [],
   "source": [
    "df = pd.read_csv('sales_data.csv') #load csv file\n",
    "baskets_per_store = df.groupby(['StoreID', 'OrderID'])['Product Name'].apply(list)"
   ]
  },
  {
   "cell_type": "code",
   "execution_count": null,
   "metadata": {},
   "outputs": [],
   "source": [
    "def get_best_selling_item_per_store(df, store_id):\n",
    "    store_data = df[df['StoreID'] == store_id]\n",
    "    best_selling_item = store_data['Product Name'].value_counts().head(1)\n",
    "    return best_selling_item\n",
    "\n",
    "random_stores = random.sample(df['StoreID'].unique().tolist(), 10)\n",
    "\n",
    "best_selling_items_per_store = []\n",
    "\n",
    "for store_id in random_stores:\n",
    "    best_selling_item = get_best_selling_item_per_store(df, store_id)\n",
    "    best_selling_items_per_store.append((store_id, best_selling_item.index[0], best_selling_item.values[0]))\n",
    "\n",
    "best_selling_df = pd.DataFrame(best_selling_items_per_store, columns=['StoreID', 'BestSellingItem', 'SalesCount'])\n",
    "\n",
    "top_10_stores = best_selling_df.sort_values(by='SalesCount', ascending=False).head(10)\n",
    "\n",
    "for idx, row in top_10_stores.iterrows():\n",
    "    print(f\"Store: {row['StoreID']}    Best selling item: {row['BestSellingItem']} ..  Sold {row['SalesCount']} times\")"
   ]
  },
  {
   "cell_type": "code",
   "execution_count": null,
   "metadata": {},
   "outputs": [],
   "source": [
    "def get_best_selling_items_across_organization(df):\n",
    "    return df['Product Name'].value_counts().head(10)\n",
    "\n",
    "top_selling_items = get_best_selling_items_across_organization(df)\n",
    "\n",
    "header = \"Best Selling Items Across All Stores:\"\n",
    "separator = \"=\" * 37\n",
    "print(f\"{header}\\n{separator}\")\n",
    "\n",
    "for idx, (item, count) in enumerate(top_selling_items.items(), start=1):\n",
    "    print(f\"{idx}. {item} - Sold {count} times\")"
   ]
  },
  {
   "cell_type": "code",
   "execution_count": null,
   "metadata": {},
   "outputs": [],
   "source": [
    "random_stores = random.sample(baskets_per_store.index.get_level_values(0).unique().tolist(), 10)\n",
    "\n",
    "report = []\n",
    "\n",
    "for store_id in random_stores:\n",
    "    transactions = baskets_per_store[store_id].tolist()\n",
    "\n",
    "    te = TransactionEncoder()\n",
    "    store_df = pd.DataFrame(te.fit_transform(transactions), columns=te.columns_)\n",
    "\n",
    "    frequent_itemsets = apriori(store_df, min_support=0.05, use_colnames=True)\n",
    "\n",
    "    bundled_itemsets = frequent_itemsets[frequent_itemsets['itemsets'].apply(lambda x: len(x) > 1)]\n",
    "    top_itemsets = bundled_itemsets.nlargest(5, 'support')\n",
    "\n",
    "    report.append(f\"Top 5 Bundled Items for Store {store_id}:\")\n",
    "    report.extend(\n",
    "        f\"{', '.join(row['itemsets'])} - Purchased together in {row['support']*100:.2f}% of orders.\"\n",
    "        for _, row in top_itemsets.iterrows()\n",
    "    )\n",
    "    report.append(\"\".center(50, \"-\"))\n",
    "\n",
    "print(\"\\n\".join(report))\n"
   ]
  },
  {
   "cell_type": "code",
   "execution_count": null,
   "metadata": {},
   "outputs": [],
   "source": [
    "df['Product Price'] = df['Product Price'].replace({'$': '', ',': ''}, regex=True).astype(float)\n",
    "\n",
    "total_sales_per_order = df.groupby(['StoreID', 'OrderID'])['Product Price'].sum().reset_index()\n",
    "\n",
    "total_sales_per_store = total_sales_per_order.groupby('StoreID')['Product Price'].sum().reset_index()\n",
    "\n",
    "top_10_stores_by_sales = total_sales_per_store.sort_values(by='Product Price', ascending=False).head(10)\n",
    "\n",
    "top_10_stores_by_sales['Top'] = range(1, len(top_10_stores_by_sales) + 1)\n",
    "\n",
    "for idx, row in top_10_stores_by_sales.iterrows():\n",
    "    print(f\"Top {int(row['Top'])}: Store {int(row['StoreID'])}   Total Sales: ${row['Product Price']:.2f}\")"
   ]
  },
  {
   "cell_type": "code",
   "execution_count": null,
   "metadata": {},
   "outputs": [],
   "source": [
    "best_selling_items_per_store = df.groupby(['StoreID', 'Product Name']).size().reset_index(name='Count')\n",
    "\n",
    "best_selling_items_per_store = best_selling_items_per_store.sort_values(by=['StoreID', 'Count'], ascending=[True, False])\n",
    "\n",
    "top_best_selling_items = best_selling_items_per_store.drop_duplicates('StoreID', keep='first')\n",
    "\n",
    "top_10_stores = top_best_selling_items.sort_values(by='Count', ascending=False).head(10)\n",
    "\n",
    "top_10_stores['Rank'] = range(1, len(top_10_stores) + 1)\n",
    "\n",
    "for idx, row in top_10_stores.iterrows():\n",
    "    print(f\"Top {row['Rank']}: Store {row['StoreID']}   Best-Selling Item: {row['Product Name']} with {row['Count']} purchases\")\n",
    "     "
   ]
  },
  {
   "cell_type": "code",
   "execution_count": null,
   "metadata": {},
   "outputs": [],
   "source": [
    "product_report = []\n",
    "product_report.append(\"\\nBottom 3 Performing Products by Sales:\")\n",
    "product_report.append(\"-\" * 50)\n",
    "\n",
    "worst_products = df['Product Name'].value_counts().tail(3)\n",
    "for product, sales in worst_products.items():\n",
    "    stores_with_product = df[df['Product Name'] == product]['StoreID'].unique()[:5]  \n",
    "    stores_list = \", \".join(map(str, stores_with_product))\n",
    "    product_report.append(f\"{product} - Sold {sales} times in stores: {stores_list}\")\n",
    "\n",
    "store_report = []\n",
    "store_report.append(\"\\nTop 10 Worst-Performing Stores by Total Sales:\")\n",
    "store_report.append(\"-\" * 50)\n",
    "\n",
    "total_sales_per_store = df.groupby('StoreID').size()\n",
    "worse_stores = total_sales_per_store.nsmallest(10)\n",
    "\n",
    "for store, sales in worse_stores.items():\n",
    "    store_report.append(f\"Store {store} - Total Sales: {sales}\")\n",
    "\n",
    "print(\"\\n\".join(product_report))\n"
   ]
  },
  {
   "cell_type": "code",
   "execution_count": null,
   "metadata": {},
   "outputs": [],
   "source": [
    "product_report = []\n",
    "product_report.append(\"\\nBottom 3 Performing Products by Sales:\")\n",
    "product_report.append(\"=\" * 50)\n",
    "\n",
    "worst_products = df['Product Name'].value_counts().tail(3)\n",
    "for product, sales in worst_products.items():\n",
    "    stores_with_product = df[df['Product Name'] == product]['StoreID'].unique()[:5]  \n",
    "    stores_list = \", \".join(map(str, stores_with_product))\n",
    "    product_report.append(f\"{product} - Sold {sales} times in stores: {stores_list}\")\n",
    "    product_report.append(\"-\" * 50)\n",
    "\n",
    "store_report = []\n",
    "store_report.append(\"\\nTop 10 Worst-Performing Stores by Total Sales:\")\n",
    "store_report.append(\"-\" * 50)\n",
    "\n",
    "total_sales_per_store = df.groupby('StoreID').size()\n",
    "worse_stores = total_sales_per_store.nsmallest(10)\n",
    "\n",
    "for store, sales in worse_stores.items():\n",
    "    store_report.append(f\"Store {store} - Total Sales: {sales}\")\n",
    "\n",
    "\n",
    "print(\"\\n\".join(store_report))\n"
   ]
  }
 ],
 "metadata": {
  "kernelspec": {
   "display_name": "Python 3",
   "language": "python",
   "name": "python3"
  },
  "language_info": {
   "codemirror_mode": {
    "name": "ipython",
    "version": 3
   },
   "file_extension": ".py",
   "mimetype": "text/x-python",
   "name": "python",
   "nbconvert_exporter": "python",
   "pygments_lexer": "ipython3",
   "version": "3.9.1"
  }
 },
 "nbformat": 4,
 "nbformat_minor": 2
}
